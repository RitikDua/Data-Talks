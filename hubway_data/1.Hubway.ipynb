{
 "cells": [
  {
   "cell_type": "code",
   "execution_count": 1,
   "metadata": {},
   "outputs": [],
   "source": [
    "import pandas as pd\n",
    "import sys\n",
    "import numpy as np\n",
    "import scipy as sp\n",
    "import matplotlib.pyplot as plt\n",
    "from math import radians, cos, sin, asin, sqrt\n",
    "import datetime\n",
    "from sklearn.linear_model import LinearRegression\n",
    "import seaborn as sns\n",
    "sns.set(style=\"ticks\")\n",
    "%matplotlib inline"
   ]
  },
  {
   "cell_type": "markdown",
   "metadata": {},
   "source": [
    "Download the data from\n",
    "\n",
    "https://drive.google.com/open?id=0B28c493CP9GtMzN1emFoMkJNNlU"
   ]
  },
  {
   "cell_type": "code",
   "execution_count": 6,
   "metadata": {},
   "outputs": [
    {
     "data": {
      "text/html": [
       "<div>\n",
       "<style scoped>\n",
       "    .dataframe tbody tr th:only-of-type {\n",
       "        vertical-align: middle;\n",
       "    }\n",
       "\n",
       "    .dataframe tbody tr th {\n",
       "        vertical-align: top;\n",
       "    }\n",
       "\n",
       "    .dataframe thead th {\n",
       "        text-align: right;\n",
       "    }\n",
       "</style>\n",
       "<table border=\"1\" class=\"dataframe\">\n",
       "  <thead>\n",
       "    <tr style=\"text-align: right;\">\n",
       "      <th></th>\n",
       "      <th>seq_id</th>\n",
       "      <th>hubway_id</th>\n",
       "      <th>status</th>\n",
       "      <th>duration</th>\n",
       "      <th>start_date</th>\n",
       "      <th>strt_statn</th>\n",
       "      <th>end_date</th>\n",
       "      <th>end_statn</th>\n",
       "      <th>bike_nr</th>\n",
       "      <th>subsc_type</th>\n",
       "      <th>zip_code</th>\n",
       "      <th>birth_date</th>\n",
       "      <th>gender</th>\n",
       "    </tr>\n",
       "  </thead>\n",
       "  <tbody>\n",
       "    <tr>\n",
       "      <th>0</th>\n",
       "      <td>1</td>\n",
       "      <td>8</td>\n",
       "      <td>Closed</td>\n",
       "      <td>9</td>\n",
       "      <td>7/28/2011 10:12:00</td>\n",
       "      <td>23.0</td>\n",
       "      <td>7/28/2011 10:12:00</td>\n",
       "      <td>23.0</td>\n",
       "      <td>B00468</td>\n",
       "      <td>Registered</td>\n",
       "      <td>'97217</td>\n",
       "      <td>1976.0</td>\n",
       "      <td>Male</td>\n",
       "    </tr>\n",
       "    <tr>\n",
       "      <th>1</th>\n",
       "      <td>2</td>\n",
       "      <td>9</td>\n",
       "      <td>Closed</td>\n",
       "      <td>220</td>\n",
       "      <td>7/28/2011 10:21:00</td>\n",
       "      <td>23.0</td>\n",
       "      <td>7/28/2011 10:25:00</td>\n",
       "      <td>23.0</td>\n",
       "      <td>B00554</td>\n",
       "      <td>Registered</td>\n",
       "      <td>'02215</td>\n",
       "      <td>1966.0</td>\n",
       "      <td>Male</td>\n",
       "    </tr>\n",
       "    <tr>\n",
       "      <th>2</th>\n",
       "      <td>3</td>\n",
       "      <td>10</td>\n",
       "      <td>Closed</td>\n",
       "      <td>56</td>\n",
       "      <td>7/28/2011 10:33:00</td>\n",
       "      <td>23.0</td>\n",
       "      <td>7/28/2011 10:34:00</td>\n",
       "      <td>23.0</td>\n",
       "      <td>B00456</td>\n",
       "      <td>Registered</td>\n",
       "      <td>'02108</td>\n",
       "      <td>1943.0</td>\n",
       "      <td>Male</td>\n",
       "    </tr>\n",
       "    <tr>\n",
       "      <th>3</th>\n",
       "      <td>4</td>\n",
       "      <td>11</td>\n",
       "      <td>Closed</td>\n",
       "      <td>64</td>\n",
       "      <td>7/28/2011 10:35:00</td>\n",
       "      <td>23.0</td>\n",
       "      <td>7/28/2011 10:36:00</td>\n",
       "      <td>23.0</td>\n",
       "      <td>B00554</td>\n",
       "      <td>Registered</td>\n",
       "      <td>'02116</td>\n",
       "      <td>1981.0</td>\n",
       "      <td>Female</td>\n",
       "    </tr>\n",
       "    <tr>\n",
       "      <th>4</th>\n",
       "      <td>5</td>\n",
       "      <td>12</td>\n",
       "      <td>Closed</td>\n",
       "      <td>12</td>\n",
       "      <td>7/28/2011 10:37:00</td>\n",
       "      <td>23.0</td>\n",
       "      <td>7/28/2011 10:37:00</td>\n",
       "      <td>23.0</td>\n",
       "      <td>B00554</td>\n",
       "      <td>Registered</td>\n",
       "      <td>'97214</td>\n",
       "      <td>1983.0</td>\n",
       "      <td>Female</td>\n",
       "    </tr>\n",
       "  </tbody>\n",
       "</table>\n",
       "</div>"
      ],
      "text/plain": [
       "   seq_id  hubway_id  status  duration          start_date  strt_statn  \\\n",
       "0       1          8  Closed         9  7/28/2011 10:12:00        23.0   \n",
       "1       2          9  Closed       220  7/28/2011 10:21:00        23.0   \n",
       "2       3         10  Closed        56  7/28/2011 10:33:00        23.0   \n",
       "3       4         11  Closed        64  7/28/2011 10:35:00        23.0   \n",
       "4       5         12  Closed        12  7/28/2011 10:37:00        23.0   \n",
       "\n",
       "             end_date  end_statn bike_nr  subsc_type zip_code  birth_date  \\\n",
       "0  7/28/2011 10:12:00       23.0  B00468  Registered   '97217      1976.0   \n",
       "1  7/28/2011 10:25:00       23.0  B00554  Registered   '02215      1966.0   \n",
       "2  7/28/2011 10:34:00       23.0  B00456  Registered   '02108      1943.0   \n",
       "3  7/28/2011 10:36:00       23.0  B00554  Registered   '02116      1981.0   \n",
       "4  7/28/2011 10:37:00       23.0  B00554  Registered   '97214      1983.0   \n",
       "\n",
       "   gender  \n",
       "0    Male  \n",
       "1    Male  \n",
       "2    Male  \n",
       "3  Female  \n",
       "4  Female  "
      ]
     },
     "execution_count": 6,
     "metadata": {},
     "output_type": "execute_result"
    }
   ],
   "source": [
    "data=pd.read_csv(\"hubway_data/hubway_trips.csv\")\n",
    "data.head()"
   ]
  },
  {
   "cell_type": "code",
   "execution_count": 5,
   "metadata": {},
   "outputs": [
    {
     "data": {
      "text/plain": [
       "(1579025, 13)"
      ]
     },
     "execution_count": 5,
     "metadata": {},
     "output_type": "execute_result"
    }
   ],
   "source": [
    "data.shape"
   ]
  },
  {
   "cell_type": "code",
   "execution_count": 7,
   "metadata": {},
   "outputs": [
    {
     "name": "stdout",
     "output_type": "stream",
     "text": [
      "<class 'pandas.core.frame.DataFrame'>\n",
      "RangeIndex: 1579025 entries, 0 to 1579024\n",
      "Data columns (total 13 columns):\n",
      " #   Column      Non-Null Count    Dtype  \n",
      "---  ------      --------------    -----  \n",
      " 0   seq_id      1579025 non-null  int64  \n",
      " 1   hubway_id   1579025 non-null  int64  \n",
      " 2   status      1579025 non-null  object \n",
      " 3   duration    1579025 non-null  int64  \n",
      " 4   start_date  1579025 non-null  object \n",
      " 5   strt_statn  1579011 non-null  float64\n",
      " 6   end_date    1579025 non-null  object \n",
      " 7   end_statn   1578980 non-null  float64\n",
      " 8   bike_nr     1578559 non-null  object \n",
      " 9   subsc_type  1579025 non-null  object \n",
      " 10  zip_code    1106259 non-null  object \n",
      " 11  birth_date  350644 non-null   float64\n",
      " 12  gender      1106414 non-null  object \n",
      "dtypes: float64(3), int64(3), object(7)\n",
      "memory usage: 156.6+ MB\n"
     ]
    }
   ],
   "source": [
    "data.info()"
   ]
  },
  {
   "cell_type": "markdown",
   "metadata": {},
   "source": [
    "#### Who? Who’s using the bikes?\n",
    "Refine into specific hypotheses:\n",
    "\n",
    "• More men or more women?\n",
    "\n",
    "• Older or younger people?\n",
    "\n",
    "• Subscribers or one time users?"
   ]
  },
  {
   "cell_type": "code",
   "execution_count": 20,
   "metadata": {},
   "outputs": [
    {
     "data": {
      "text/plain": [
       "(array(['Female', 'Male', 'NaN'], dtype=object),\n",
       " array([271700, 834714, 472611]))"
      ]
     },
     "execution_count": 20,
     "metadata": {},
     "output_type": "execute_result"
    }
   ],
   "source": [
    "gender_counts=np.unique(data[\"gender\"].replace(np.NaN,\"NaN\",regex=True).values,return_counts=True)\n",
    "gender_counts"
   ]
  },
  {
   "cell_type": "code",
   "execution_count": 46,
   "metadata": {},
   "outputs": [
    {
     "data": {
      "text/plain": [
       "array([44., 54., 77., ..., 44., 33., 35.])"
      ]
     },
     "execution_count": 46,
     "metadata": {},
     "output_type": "execute_result"
    }
   ],
   "source": [
    "age_data=2020.0-data[\"birth_date\"].dropna().values\n",
    "age_data"
   ]
  },
  {
   "cell_type": "code",
   "execution_count": 61,
   "metadata": {},
   "outputs": [
    {
     "data": {
      "text/plain": [
       "count        1579025\n",
       "unique             2\n",
       "top       Registered\n",
       "freq         1106414\n",
       "Name: subsc_type, dtype: object"
      ]
     },
     "execution_count": 61,
     "metadata": {},
     "output_type": "execute_result"
    }
   ],
   "source": [
    "data[\"subsc_type\"].describe()"
   ]
  },
  {
   "cell_type": "code",
   "execution_count": 63,
   "metadata": {},
   "outputs": [
    {
     "data": {
      "text/plain": [
       "Text(0.5, 1.0, 'Users by Age')"
      ]
     },
     "execution_count": 63,
     "metadata": {},
     "output_type": "execute_result"
    },
    {
     "data": {
      "image/png": "[encoded data removed]",
      "text/plain": [
       "<Figure size 1080x432 with 2 Axes>"
      ]
     },
     "metadata": {
      "needs_background": "light"
     },
     "output_type": "display_data"
    }
   ],
   "source": [
    "fig, ax = plt.subplots(1, 2, figsize=(15, 6))\n",
    "\n",
    "\n",
    "ax[0].bar(range(3),gender_counts[1],align=\"center\",color=[\"black\",\"green\",\"teal\"],alpha=0.6)\n",
    "ax[0].set_xticks([0, 1, 2])\n",
    "ax[0].set_xticklabels(['none', 'male', 'female', ' '])\n",
    "ax[0].set_title('Users by Gender')\n",
    "\n",
    "age_counts=np.unique(age_data,return_counts=True)\n",
    "ax[1].bar(age_counts[0],age_counts[1],align=\"center\",width=0.4,alpha=0.6)\n",
    "ax[1].axvline(x=np.mean(age_data),color=\"red\",label=\"Avg Age\")\n",
    "ax[1].axvline(x=np.percentile(age_data, 25), color='red', linestyle='--', label='lower quartile')\n",
    "ax[1].axvline(x=np.percentile(age_data, 75), color='red', linestyle='--', label='upper quartile')\n",
    "ax[1].set_xlim([1, 90])\n",
    "ax[1].set_xlabel('Age')\n",
    "ax[1].set_ylabel('Number of Checkouts')\n",
    "ax[1].legend()\n",
    "ax[1].set_title('Users by Age')\n",
    "\n",
    "\n",
    "\n"
   ]
  },
  {
   "cell_type": "markdown",
   "metadata": {},
   "source": [
    "### Where? Where are bikes being checked out?\n",
    "Refine into specific hypotheses:\n",
    "\n",
    "• More in Boston than Cambridge?\n",
    "\n",
    "• More in commercial or residential?\n",
    "\n",
    "• More around tourist attractions?"
   ]
  },
  {
   "cell_type": "code",
   "execution_count": 67,
   "metadata": {},
   "outputs": [
    {
     "data": {
      "text/html": [
       "<div>\n",
       "<style scoped>\n",
       "    .dataframe tbody tr th:only-of-type {\n",
       "        vertical-align: middle;\n",
       "    }\n",
       "\n",
       "    .dataframe tbody tr th {\n",
       "        vertical-align: top;\n",
       "    }\n",
       "\n",
       "    .dataframe thead th {\n",
       "        text-align: right;\n",
       "    }\n",
       "</style>\n",
       "<table border=\"1\" class=\"dataframe\">\n",
       "  <thead>\n",
       "    <tr style=\"text-align: right;\">\n",
       "      <th></th>\n",
       "      <th>id</th>\n",
       "      <th>terminal</th>\n",
       "      <th>station</th>\n",
       "      <th>municipal</th>\n",
       "      <th>lat</th>\n",
       "      <th>lng</th>\n",
       "      <th>status</th>\n",
       "    </tr>\n",
       "  </thead>\n",
       "  <tbody>\n",
       "    <tr>\n",
       "      <th>0</th>\n",
       "      <td>3</td>\n",
       "      <td>B32006</td>\n",
       "      <td>Colleges of the Fenway</td>\n",
       "      <td>Boston</td>\n",
       "      <td>42.340021</td>\n",
       "      <td>-71.100812</td>\n",
       "      <td>Existing</td>\n",
       "    </tr>\n",
       "    <tr>\n",
       "      <th>1</th>\n",
       "      <td>4</td>\n",
       "      <td>C32000</td>\n",
       "      <td>Tremont St. at Berkeley St.</td>\n",
       "      <td>Boston</td>\n",
       "      <td>42.345392</td>\n",
       "      <td>-71.069616</td>\n",
       "      <td>Existing</td>\n",
       "    </tr>\n",
       "    <tr>\n",
       "      <th>2</th>\n",
       "      <td>5</td>\n",
       "      <td>B32012</td>\n",
       "      <td>Northeastern U / North Parking Lot</td>\n",
       "      <td>Boston</td>\n",
       "      <td>42.341814</td>\n",
       "      <td>-71.090179</td>\n",
       "      <td>Existing</td>\n",
       "    </tr>\n",
       "    <tr>\n",
       "      <th>3</th>\n",
       "      <td>6</td>\n",
       "      <td>D32000</td>\n",
       "      <td>Cambridge St. at Joy St.</td>\n",
       "      <td>Boston</td>\n",
       "      <td>42.361285</td>\n",
       "      <td>-71.065140</td>\n",
       "      <td>Existing</td>\n",
       "    </tr>\n",
       "    <tr>\n",
       "      <th>4</th>\n",
       "      <td>7</td>\n",
       "      <td>A32000</td>\n",
       "      <td>Fan Pier</td>\n",
       "      <td>Boston</td>\n",
       "      <td>42.353412</td>\n",
       "      <td>-71.044624</td>\n",
       "      <td>Existing</td>\n",
       "    </tr>\n",
       "  </tbody>\n",
       "</table>\n",
       "</div>"
      ],
      "text/plain": [
       "   id terminal                             station municipal        lat  \\\n",
       "0   3   B32006              Colleges of the Fenway    Boston  42.340021   \n",
       "1   4   C32000         Tremont St. at Berkeley St.    Boston  42.345392   \n",
       "2   5   B32012  Northeastern U / North Parking Lot    Boston  42.341814   \n",
       "3   6   D32000            Cambridge St. at Joy St.    Boston  42.361285   \n",
       "4   7   A32000                            Fan Pier    Boston  42.353412   \n",
       "\n",
       "         lng    status  \n",
       "0 -71.100812  Existing  \n",
       "1 -71.069616  Existing  \n",
       "2 -71.090179  Existing  \n",
       "3 -71.065140  Existing  \n",
       "4 -71.044624  Existing  "
      ]
     },
     "execution_count": 67,
     "metadata": {},
     "output_type": "execute_result"
    }
   ],
   "source": [
    "stations_data=pd.read_csv(\"hubway_data/hubway_stations.csv\")\n",
    "stations_data.head()"
   ]
  },
  {
   "cell_type": "code",
   "execution_count": 76,
   "metadata": {},
   "outputs": [
    {
     "name": "stdout",
     "output_type": "stream",
     "text": [
      "['Boston' 'Brookline' 'Cambridge' 'Somerville']\n",
      "count        142\n",
      "unique         4\n",
      "top       Boston\n",
      "freq          97\n",
      "Name: municipal, dtype: object\n"
     ]
    }
   ],
   "source": [
    "print(np.unique(stations_data[\"municipal\"].values),stations_data[\"municipal\"].describe(),sep=\"\\n\")"
   ]
  },
  {
   "cell_type": "code",
   "execution_count": 77,
   "metadata": {},
   "outputs": [
    {
     "data": {
      "text/plain": [
       "(array(['Boston', 'Brookline', 'Cambridge', 'Somerville'], dtype=object),\n",
       " array([97,  5, 28, 12]))"
      ]
     },
     "execution_count": 77,
     "metadata": {},
     "output_type": "execute_result"
    }
   ],
   "source": [
    "municipal_counts=np.unique(stations_data[\"municipal\"].replace(np.NaN,'NaN',regex=True).values,return_counts=True)\n",
    "municipal_counts"
   ]
  },
  {
   "cell_type": "code",
   "execution_count": 88,
   "metadata": {},
   "outputs": [
    {
     "data": {
      "text/plain": [
       "array(['Existing', 'Removed'], dtype=object)"
      ]
     },
     "execution_count": 88,
     "metadata": {},
     "output_type": "execute_result"
    }
   ],
   "source": [
    "np.unique(stations_data[\"status\"].values)"
   ]
  },
  {
   "cell_type": "code",
   "execution_count": 98,
   "metadata": {},
   "outputs": [
    {
     "data": {
      "text/plain": [
       "Text(0.5, 1.0, 'Checked Out')"
      ]
     },
     "execution_count": 98,
     "metadata": {},
     "output_type": "execute_result"
    },
    {
     "data": {
      "image/png": "[encoded data removed]",
      "text/plain": [
       "<Figure size 360x432 with 1 Axes>"
      ]
     },
     "metadata": {
      "needs_background": "light"
     },
     "output_type": "display_data"
    }
   ],
   "source": [
    "fig, ax = plt.subplots(figsize=(5, 6))\n",
    "\n",
    "\n",
    "ax.bar(range(4),municipal_counts[1], color=[ 'green','black', 'teal','#93ffd7'],alpha=0.6)\n",
    "ax.set_xticks([0, 1, 2,3])\n",
    "ax.set_xticklabels(np.unique(stations_data[\"municipal\"].values))\n",
    "ax.set_title('Checked Out')\n"
   ]
  },
  {
   "cell_type": "code",
   "execution_count": 99,
   "metadata": {},
   "outputs": [
    {
     "data": {
      "text/plain": [
       "0          10\n",
       "1          10\n",
       "2          10\n",
       "3          10\n",
       "4          10\n",
       "           ..\n",
       "1579020    23\n",
       "1579021    23\n",
       "1579022    23\n",
       "1579023    23\n",
       "1579024    23\n",
       "Name: start_date, Length: 1579025, dtype: int64"
      ]
     },
     "execution_count": 99,
     "metadata": {},
     "output_type": "execute_result"
    }
   ],
   "source": [
    "check_out_hours = data['start_date'].apply(lambda s: int(s[-8:-6]))\n",
    "check_out_hours"
   ]
  },
  {
   "cell_type": "markdown",
   "metadata": {},
   "source": [
    "### When? When are the bikes being checked out?\n",
    "Refine into specific hypotheses:\n",
    "\n",
    "• More during the weekend than on the weekdays?\n",
    "\n",
    "• More during rush hour?\n",
    "\n",
    "• More during the summer than the fall?"
   ]
  },
  {
   "cell_type": "code",
   "execution_count": 100,
   "metadata": {},
   "outputs": [
    {
     "data": {
      "image/png": "[encoded data removed]",
      "text/plain": [
       "<Figure size 720x360 with 1 Axes>"
      ]
     },
     "metadata": {
      "needs_background": "light"
     },
     "output_type": "display_data"
    }
   ],
   "source": [
    "fig,ax=plt.subplots(1,1,figsize=(10,5))\n",
    "\n",
    "check_out_counts=np.unique(check_out_hours,return_counts=True)\n",
    "ax.bar(check_out_counts[0], check_out_counts[1], align='center', width=0.4, alpha=0.6)\n",
    "\n",
    "ax.set_xlim([-1, 24])\n",
    "ax.set_xticks(range(24))\n",
    "ax.set_xlabel('Hour of Day')\n",
    "ax.set_ylabel('Number of Checkouts')\n",
    "ax.set_title('Time of Day vs Checkouts')\n",
    "\n",
    "plt.show()"
   ]
  },
  {
   "cell_type": "code",
   "execution_count": 115,
   "metadata": {},
   "outputs": [],
   "source": [
    "weeks=[\"Monday\",\"Tuesday\",\"Wednesday\",\"Thursday\",\"Friday\",\"Saturday\",\"Sunday\"];"
   ]
  },
  {
   "cell_type": "code",
   "execution_count": 129,
   "metadata": {},
   "outputs": [
    {
     "data": {
      "text/plain": [
       "0          3\n",
       "1          3\n",
       "2          3\n",
       "3          3\n",
       "4          3\n",
       "          ..\n",
       "1579020    5\n",
       "1579021    5\n",
       "1579022    5\n",
       "1579023    5\n",
       "1579024    5\n",
       "Name: start_date, Length: 1579025, dtype: int64"
      ]
     },
     "execution_count": 129,
     "metadata": {},
     "output_type": "execute_result"
    }
   ],
   "source": [
    "day=pd.to_datetime(data[\"start_date\"]).dt.dayofweek\n",
    "day"
   ]
  },
  {
   "cell_type": "code",
   "execution_count": 131,
   "metadata": {},
   "outputs": [],
   "source": [
    "data[\"Day\"]=day"
   ]
  },
  {
   "cell_type": "code",
   "execution_count": 137,
   "metadata": {},
   "outputs": [
    {
     "data": {
      "text/html": [
       "<div>\n",
       "<style scoped>\n",
       "    .dataframe tbody tr th:only-of-type {\n",
       "        vertical-align: middle;\n",
       "    }\n",
       "\n",
       "    .dataframe tbody tr th {\n",
       "        vertical-align: top;\n",
       "    }\n",
       "\n",
       "    .dataframe thead th {\n",
       "        text-align: right;\n",
       "    }\n",
       "</style>\n",
       "<table border=\"1\" class=\"dataframe\">\n",
       "  <thead>\n",
       "    <tr style=\"text-align: right;\">\n",
       "      <th></th>\n",
       "      <th>seq_id</th>\n",
       "      <th>hubway_id</th>\n",
       "      <th>status</th>\n",
       "      <th>duration</th>\n",
       "      <th>start_date</th>\n",
       "      <th>strt_statn</th>\n",
       "      <th>end_date</th>\n",
       "      <th>end_statn</th>\n",
       "      <th>bike_nr</th>\n",
       "      <th>subsc_type</th>\n",
       "      <th>zip_code</th>\n",
       "      <th>birth_date</th>\n",
       "      <th>gender</th>\n",
       "      <th>Day</th>\n",
       "    </tr>\n",
       "  </thead>\n",
       "  <tbody>\n",
       "    <tr>\n",
       "      <th>0</th>\n",
       "      <td>1</td>\n",
       "      <td>8</td>\n",
       "      <td>Closed</td>\n",
       "      <td>9</td>\n",
       "      <td>7/28/2011 10:12:00</td>\n",
       "      <td>23.0</td>\n",
       "      <td>2011-07-28 10:12:00</td>\n",
       "      <td>23.0</td>\n",
       "      <td>B00468</td>\n",
       "      <td>Registered</td>\n",
       "      <td>'97217</td>\n",
       "      <td>1976.0</td>\n",
       "      <td>Male</td>\n",
       "      <td>3</td>\n",
       "    </tr>\n",
       "    <tr>\n",
       "      <th>1</th>\n",
       "      <td>2</td>\n",
       "      <td>9</td>\n",
       "      <td>Closed</td>\n",
       "      <td>220</td>\n",
       "      <td>7/28/2011 10:21:00</td>\n",
       "      <td>23.0</td>\n",
       "      <td>2011-07-28 10:25:00</td>\n",
       "      <td>23.0</td>\n",
       "      <td>B00554</td>\n",
       "      <td>Registered</td>\n",
       "      <td>'02215</td>\n",
       "      <td>1966.0</td>\n",
       "      <td>Male</td>\n",
       "      <td>3</td>\n",
       "    </tr>\n",
       "    <tr>\n",
       "      <th>2</th>\n",
       "      <td>3</td>\n",
       "      <td>10</td>\n",
       "      <td>Closed</td>\n",
       "      <td>56</td>\n",
       "      <td>7/28/2011 10:33:00</td>\n",
       "      <td>23.0</td>\n",
       "      <td>2011-07-28 10:34:00</td>\n",
       "      <td>23.0</td>\n",
       "      <td>B00456</td>\n",
       "      <td>Registered</td>\n",
       "      <td>'02108</td>\n",
       "      <td>1943.0</td>\n",
       "      <td>Male</td>\n",
       "      <td>3</td>\n",
       "    </tr>\n",
       "    <tr>\n",
       "      <th>3</th>\n",
       "      <td>4</td>\n",
       "      <td>11</td>\n",
       "      <td>Closed</td>\n",
       "      <td>64</td>\n",
       "      <td>7/28/2011 10:35:00</td>\n",
       "      <td>23.0</td>\n",
       "      <td>2011-07-28 10:36:00</td>\n",
       "      <td>23.0</td>\n",
       "      <td>B00554</td>\n",
       "      <td>Registered</td>\n",
       "      <td>'02116</td>\n",
       "      <td>1981.0</td>\n",
       "      <td>Female</td>\n",
       "      <td>3</td>\n",
       "    </tr>\n",
       "    <tr>\n",
       "      <th>4</th>\n",
       "      <td>5</td>\n",
       "      <td>12</td>\n",
       "      <td>Closed</td>\n",
       "      <td>12</td>\n",
       "      <td>7/28/2011 10:37:00</td>\n",
       "      <td>23.0</td>\n",
       "      <td>2011-07-28 10:37:00</td>\n",
       "      <td>23.0</td>\n",
       "      <td>B00554</td>\n",
       "      <td>Registered</td>\n",
       "      <td>'97214</td>\n",
       "      <td>1983.0</td>\n",
       "      <td>Female</td>\n",
       "      <td>3</td>\n",
       "    </tr>\n",
       "  </tbody>\n",
       "</table>\n",
       "</div>"
      ],
      "text/plain": [
       "   seq_id  hubway_id  status  duration          start_date  strt_statn  \\\n",
       "0       1          8  Closed         9  7/28/2011 10:12:00        23.0   \n",
       "1       2          9  Closed       220  7/28/2011 10:21:00        23.0   \n",
       "2       3         10  Closed        56  7/28/2011 10:33:00        23.0   \n",
       "3       4         11  Closed        64  7/28/2011 10:35:00        23.0   \n",
       "4       5         12  Closed        12  7/28/2011 10:37:00        23.0   \n",
       "\n",
       "             end_date  end_statn bike_nr  subsc_type zip_code  birth_date  \\\n",
       "0 2011-07-28 10:12:00       23.0  B00468  Registered   '97217      1976.0   \n",
       "1 2011-07-28 10:25:00       23.0  B00554  Registered   '02215      1966.0   \n",
       "2 2011-07-28 10:34:00       23.0  B00456  Registered   '02108      1943.0   \n",
       "3 2011-07-28 10:36:00       23.0  B00554  Registered   '02116      1981.0   \n",
       "4 2011-07-28 10:37:00       23.0  B00554  Registered   '97214      1983.0   \n",
       "\n",
       "   gender  Day  \n",
       "0    Male    3  \n",
       "1    Male    3  \n",
       "2    Male    3  \n",
       "3  Female    3  \n",
       "4  Female    3  "
      ]
     },
     "execution_count": 137,
     "metadata": {},
     "output_type": "execute_result"
    }
   ],
   "source": [
    "data.head()"
   ]
  },
  {
   "cell_type": "code",
   "execution_count": 216,
   "metadata": {},
   "outputs": [],
   "source": [
    "data['end_date'] = pd.to_datetime(data['end_date'], format='%m/%d/%Y %H:%M:%S')"
   ]
  },
  {
   "cell_type": "code",
   "execution_count": 217,
   "metadata": {},
   "outputs": [],
   "source": [
    "trips_final_day=data.set_index(\"end_date\").resample(\"D\").count()\n",
    "trips_final_day=trips_final_day[\"duration\"]"
   ]
  },
  {
   "cell_type": "code",
   "execution_count": 218,
   "metadata": {},
   "outputs": [
    {
     "data": {
      "text/plain": [
       "end_date\n",
       "0    230549\n",
       "1    231785\n",
       "2    238615\n",
       "3    234869\n",
       "4    230906\n",
       "5    215591\n",
       "6    196710\n",
       "Name: duration, dtype: int64"
      ]
     },
     "execution_count": 218,
     "metadata": {},
     "output_type": "execute_result"
    }
   ],
   "source": [
    "\n",
    "#Grouping by day of week in order and getting the net trips per day\n",
    "trips_per_days_week=trips_final_day.groupby(trips_final_day.index.dayofweek).sum()\n",
    "trips_per_days_week"
   ]
  },
  {
   "cell_type": "code",
   "execution_count": 219,
   "metadata": {},
   "outputs": [
    {
     "data": {
      "text/plain": [
       "Day\n",
       "0    230549\n",
       "1    231785\n",
       "2    238615\n",
       "3    234869\n",
       "4    230906\n",
       "5    215591\n",
       "6    196710\n",
       "Name: Trips, dtype: int64"
      ]
     },
     "execution_count": 219,
     "metadata": {},
     "output_type": "execute_result"
    }
   ],
   "source": [
    "trips_per_days_week.index.name = 'Day'\n",
    "trips_per_days_week = trips_per_days_week.rename('Trips')\n",
    "trips_per_days_week"
   ]
  },
  {
   "cell_type": "code",
   "execution_count": 220,
   "metadata": {},
   "outputs": [
    {
     "data": {
      "text/plain": [
       "Monday       230549\n",
       "Tuesday      231785\n",
       "Wednesday    238615\n",
       "Thursday     234869\n",
       "Friday       230906\n",
       "Saturday     215591\n",
       "Sunday       196710\n",
       "Name: Trips, dtype: int64"
      ]
     },
     "execution_count": 220,
     "metadata": {},
     "output_type": "execute_result"
    }
   ],
   "source": [
    "days = np.array(['Monday', 'Tuesday', 'Wednesday', 'Thursday', 'Friday', 'Saturday', 'Sunday'])\n",
    "trips_per_days_week.index = days\n",
    "trips_per_days_week"
   ]
  },
  {
   "cell_type": "code",
   "execution_count": 221,
   "metadata": {},
   "outputs": [
    {
     "data": {
      "text/plain": [
       "Wednesday    238615\n",
       "Name: Trips, dtype: int64"
      ]
     },
     "execution_count": 221,
     "metadata": {},
     "output_type": "execute_result"
    }
   ],
   "source": [
    "trips_per_days_week[trips_per_days_week == trips_per_days_week.max()]\n"
   ]
  },
  {
   "cell_type": "code",
   "execution_count": 222,
   "metadata": {},
   "outputs": [
    {
     "data": {
      "image/png": "[encoded data removed]",
      "text/plain": [
       "<Figure size 792x216 with 1 Axes>"
      ]
     },
     "metadata": {
      "needs_background": "light"
     },
     "output_type": "display_data"
    }
   ],
   "source": [
    "fig=plt.figure(num=None, figsize=(11, 3))\n",
    "\n",
    "plt.bar(trips_per_days_week.index.values,trips_per_days_week,log=True);\n",
    "plt.ylabel('Trips');\n",
    "plt.xlabel('Day');\n"
   ]
  },
  {
   "cell_type": "code",
   "execution_count": 213,
   "metadata": {},
   "outputs": [
    {
     "data": {
      "text/html": [
       "<div>\n",
       "<style scoped>\n",
       "    .dataframe tbody tr th:only-of-type {\n",
       "        vertical-align: middle;\n",
       "    }\n",
       "\n",
       "    .dataframe tbody tr th {\n",
       "        vertical-align: top;\n",
       "    }\n",
       "\n",
       "    .dataframe thead th {\n",
       "        text-align: right;\n",
       "    }\n",
       "</style>\n",
       "<table border=\"1\" class=\"dataframe\">\n",
       "  <thead>\n",
       "    <tr style=\"text-align: right;\">\n",
       "      <th></th>\n",
       "      <th>seq_id</th>\n",
       "      <th>hubway_id</th>\n",
       "      <th>status</th>\n",
       "      <th>duration</th>\n",
       "      <th>start_date</th>\n",
       "      <th>strt_statn</th>\n",
       "      <th>end_statn</th>\n",
       "      <th>bike_nr</th>\n",
       "      <th>subsc_type</th>\n",
       "      <th>zip_code</th>\n",
       "      <th>birth_date</th>\n",
       "      <th>gender</th>\n",
       "      <th>Day</th>\n",
       "      <th>Season</th>\n",
       "    </tr>\n",
       "    <tr>\n",
       "      <th>end_date</th>\n",
       "      <th></th>\n",
       "      <th></th>\n",
       "      <th></th>\n",
       "      <th></th>\n",
       "      <th></th>\n",
       "      <th></th>\n",
       "      <th></th>\n",
       "      <th></th>\n",
       "      <th></th>\n",
       "      <th></th>\n",
       "      <th></th>\n",
       "      <th></th>\n",
       "      <th></th>\n",
       "      <th></th>\n",
       "    </tr>\n",
       "  </thead>\n",
       "  <tbody>\n",
       "    <tr>\n",
       "      <th>2011-07-31</th>\n",
       "      <td>2738</td>\n",
       "      <td>2738</td>\n",
       "      <td>2738</td>\n",
       "      <td>2738</td>\n",
       "      <td>2738</td>\n",
       "      <td>2738</td>\n",
       "      <td>2737</td>\n",
       "      <td>2725</td>\n",
       "      <td>2738</td>\n",
       "      <td>627</td>\n",
       "      <td>627</td>\n",
       "      <td>627</td>\n",
       "      <td>2738</td>\n",
       "      <td>2738</td>\n",
       "    </tr>\n",
       "    <tr>\n",
       "      <th>2011-08-31</th>\n",
       "      <td>36614</td>\n",
       "      <td>36614</td>\n",
       "      <td>36614</td>\n",
       "      <td>36614</td>\n",
       "      <td>36614</td>\n",
       "      <td>36614</td>\n",
       "      <td>36611</td>\n",
       "      <td>36359</td>\n",
       "      <td>36614</td>\n",
       "      <td>16022</td>\n",
       "      <td>15982</td>\n",
       "      <td>16022</td>\n",
       "      <td>36614</td>\n",
       "      <td>36614</td>\n",
       "    </tr>\n",
       "    <tr>\n",
       "      <th>2011-09-30</th>\n",
       "      <td>39372</td>\n",
       "      <td>39372</td>\n",
       "      <td>39372</td>\n",
       "      <td>39372</td>\n",
       "      <td>39372</td>\n",
       "      <td>39372</td>\n",
       "      <td>39371</td>\n",
       "      <td>39238</td>\n",
       "      <td>39372</td>\n",
       "      <td>21442</td>\n",
       "      <td>21139</td>\n",
       "      <td>21442</td>\n",
       "      <td>39372</td>\n",
       "      <td>39372</td>\n",
       "    </tr>\n",
       "    <tr>\n",
       "      <th>2011-10-31</th>\n",
       "      <td>36636</td>\n",
       "      <td>36636</td>\n",
       "      <td>36636</td>\n",
       "      <td>36636</td>\n",
       "      <td>36636</td>\n",
       "      <td>36636</td>\n",
       "      <td>36636</td>\n",
       "      <td>36572</td>\n",
       "      <td>36636</td>\n",
       "      <td>23373</td>\n",
       "      <td>23081</td>\n",
       "      <td>23374</td>\n",
       "      <td>36636</td>\n",
       "      <td>36636</td>\n",
       "    </tr>\n",
       "    <tr>\n",
       "      <th>2011-11-30</th>\n",
       "      <td>25141</td>\n",
       "      <td>25141</td>\n",
       "      <td>25141</td>\n",
       "      <td>25141</td>\n",
       "      <td>25141</td>\n",
       "      <td>25141</td>\n",
       "      <td>25141</td>\n",
       "      <td>25141</td>\n",
       "      <td>25141</td>\n",
       "      <td>18114</td>\n",
       "      <td>17869</td>\n",
       "      <td>18114</td>\n",
       "      <td>25141</td>\n",
       "      <td>25141</td>\n",
       "    </tr>\n",
       "    <tr>\n",
       "      <th>2011-12-31</th>\n",
       "      <td>19</td>\n",
       "      <td>19</td>\n",
       "      <td>19</td>\n",
       "      <td>19</td>\n",
       "      <td>19</td>\n",
       "      <td>19</td>\n",
       "      <td>8</td>\n",
       "      <td>19</td>\n",
       "      <td>19</td>\n",
       "      <td>4</td>\n",
       "      <td>4</td>\n",
       "      <td>4</td>\n",
       "      <td>19</td>\n",
       "      <td>19</td>\n",
       "    </tr>\n",
       "    <tr>\n",
       "      <th>2012-01-31</th>\n",
       "      <td>0</td>\n",
       "      <td>0</td>\n",
       "      <td>0</td>\n",
       "      <td>0</td>\n",
       "      <td>0</td>\n",
       "      <td>0</td>\n",
       "      <td>0</td>\n",
       "      <td>0</td>\n",
       "      <td>0</td>\n",
       "      <td>0</td>\n",
       "      <td>0</td>\n",
       "      <td>0</td>\n",
       "      <td>0</td>\n",
       "      <td>0</td>\n",
       "    </tr>\n",
       "    <tr>\n",
       "      <th>2012-02-29</th>\n",
       "      <td>1</td>\n",
       "      <td>1</td>\n",
       "      <td>1</td>\n",
       "      <td>1</td>\n",
       "      <td>1</td>\n",
       "      <td>1</td>\n",
       "      <td>1</td>\n",
       "      <td>1</td>\n",
       "      <td>1</td>\n",
       "      <td>0</td>\n",
       "      <td>0</td>\n",
       "      <td>0</td>\n",
       "      <td>1</td>\n",
       "      <td>1</td>\n",
       "    </tr>\n",
       "    <tr>\n",
       "      <th>2012-03-31</th>\n",
       "      <td>14435</td>\n",
       "      <td>14435</td>\n",
       "      <td>14435</td>\n",
       "      <td>14435</td>\n",
       "      <td>14435</td>\n",
       "      <td>14435</td>\n",
       "      <td>14433</td>\n",
       "      <td>14435</td>\n",
       "      <td>14435</td>\n",
       "      <td>10367</td>\n",
       "      <td>10276</td>\n",
       "      <td>10367</td>\n",
       "      <td>14435</td>\n",
       "      <td>14435</td>\n",
       "    </tr>\n",
       "    <tr>\n",
       "      <th>2012-04-30</th>\n",
       "      <td>44491</td>\n",
       "      <td>44491</td>\n",
       "      <td>44491</td>\n",
       "      <td>44491</td>\n",
       "      <td>44491</td>\n",
       "      <td>44491</td>\n",
       "      <td>44487</td>\n",
       "      <td>44491</td>\n",
       "      <td>44491</td>\n",
       "      <td>31508</td>\n",
       "      <td>31252</td>\n",
       "      <td>31508</td>\n",
       "      <td>44491</td>\n",
       "      <td>44491</td>\n",
       "    </tr>\n",
       "    <tr>\n",
       "      <th>2012-05-31</th>\n",
       "      <td>53801</td>\n",
       "      <td>53801</td>\n",
       "      <td>53801</td>\n",
       "      <td>53801</td>\n",
       "      <td>53801</td>\n",
       "      <td>53801</td>\n",
       "      <td>53801</td>\n",
       "      <td>53801</td>\n",
       "      <td>53801</td>\n",
       "      <td>36415</td>\n",
       "      <td>36084</td>\n",
       "      <td>36415</td>\n",
       "      <td>53801</td>\n",
       "      <td>53801</td>\n",
       "    </tr>\n",
       "    <tr>\n",
       "      <th>2012-06-30</th>\n",
       "      <td>55982</td>\n",
       "      <td>55982</td>\n",
       "      <td>55982</td>\n",
       "      <td>55982</td>\n",
       "      <td>55982</td>\n",
       "      <td>55982</td>\n",
       "      <td>55981</td>\n",
       "      <td>55982</td>\n",
       "      <td>55982</td>\n",
       "      <td>39611</td>\n",
       "      <td>39274</td>\n",
       "      <td>39613</td>\n",
       "      <td>55982</td>\n",
       "      <td>55982</td>\n",
       "    </tr>\n",
       "    <tr>\n",
       "      <th>2012-07-31</th>\n",
       "      <td>70458</td>\n",
       "      <td>70458</td>\n",
       "      <td>70458</td>\n",
       "      <td>70458</td>\n",
       "      <td>70458</td>\n",
       "      <td>70458</td>\n",
       "      <td>70458</td>\n",
       "      <td>70458</td>\n",
       "      <td>70458</td>\n",
       "      <td>45839</td>\n",
       "      <td>45523</td>\n",
       "      <td>45839</td>\n",
       "      <td>70458</td>\n",
       "      <td>70458</td>\n",
       "    </tr>\n",
       "    <tr>\n",
       "      <th>2012-08-31</th>\n",
       "      <td>85358</td>\n",
       "      <td>85358</td>\n",
       "      <td>85358</td>\n",
       "      <td>85358</td>\n",
       "      <td>85358</td>\n",
       "      <td>85356</td>\n",
       "      <td>85354</td>\n",
       "      <td>85358</td>\n",
       "      <td>85358</td>\n",
       "      <td>54166</td>\n",
       "      <td>53822</td>\n",
       "      <td>54166</td>\n",
       "      <td>85358</td>\n",
       "      <td>85358</td>\n",
       "    </tr>\n",
       "    <tr>\n",
       "      <th>2012-09-30</th>\n",
       "      <td>84231</td>\n",
       "      <td>84231</td>\n",
       "      <td>84231</td>\n",
       "      <td>84231</td>\n",
       "      <td>84231</td>\n",
       "      <td>84219</td>\n",
       "      <td>84213</td>\n",
       "      <td>84231</td>\n",
       "      <td>84231</td>\n",
       "      <td>55862</td>\n",
       "      <td>55706</td>\n",
       "      <td>55864</td>\n",
       "      <td>84231</td>\n",
       "      <td>84231</td>\n",
       "    </tr>\n",
       "    <tr>\n",
       "      <th>2012-10-31</th>\n",
       "      <td>77363</td>\n",
       "      <td>77363</td>\n",
       "      <td>77363</td>\n",
       "      <td>77363</td>\n",
       "      <td>77363</td>\n",
       "      <td>77363</td>\n",
       "      <td>77363</td>\n",
       "      <td>77363</td>\n",
       "      <td>77363</td>\n",
       "      <td>56960</td>\n",
       "      <td>5</td>\n",
       "      <td>56970</td>\n",
       "      <td>77363</td>\n",
       "      <td>77363</td>\n",
       "    </tr>\n",
       "    <tr>\n",
       "      <th>2012-11-30</th>\n",
       "      <td>47710</td>\n",
       "      <td>47710</td>\n",
       "      <td>47710</td>\n",
       "      <td>47710</td>\n",
       "      <td>47710</td>\n",
       "      <td>47710</td>\n",
       "      <td>47710</td>\n",
       "      <td>47710</td>\n",
       "      <td>47710</td>\n",
       "      <td>35488</td>\n",
       "      <td>0</td>\n",
       "      <td>35495</td>\n",
       "      <td>47710</td>\n",
       "      <td>47710</td>\n",
       "    </tr>\n",
       "    <tr>\n",
       "      <th>2012-12-31</th>\n",
       "      <td>0</td>\n",
       "      <td>0</td>\n",
       "      <td>0</td>\n",
       "      <td>0</td>\n",
       "      <td>0</td>\n",
       "      <td>0</td>\n",
       "      <td>0</td>\n",
       "      <td>0</td>\n",
       "      <td>0</td>\n",
       "      <td>0</td>\n",
       "      <td>0</td>\n",
       "      <td>0</td>\n",
       "      <td>0</td>\n",
       "      <td>0</td>\n",
       "    </tr>\n",
       "    <tr>\n",
       "      <th>2013-01-31</th>\n",
       "      <td>0</td>\n",
       "      <td>0</td>\n",
       "      <td>0</td>\n",
       "      <td>0</td>\n",
       "      <td>0</td>\n",
       "      <td>0</td>\n",
       "      <td>0</td>\n",
       "      <td>0</td>\n",
       "      <td>0</td>\n",
       "      <td>0</td>\n",
       "      <td>0</td>\n",
       "      <td>0</td>\n",
       "      <td>0</td>\n",
       "      <td>0</td>\n",
       "    </tr>\n",
       "    <tr>\n",
       "      <th>2013-02-28</th>\n",
       "      <td>0</td>\n",
       "      <td>0</td>\n",
       "      <td>0</td>\n",
       "      <td>0</td>\n",
       "      <td>0</td>\n",
       "      <td>0</td>\n",
       "      <td>0</td>\n",
       "      <td>0</td>\n",
       "      <td>0</td>\n",
       "      <td>0</td>\n",
       "      <td>0</td>\n",
       "      <td>0</td>\n",
       "      <td>0</td>\n",
       "      <td>0</td>\n",
       "    </tr>\n",
       "    <tr>\n",
       "      <th>2013-03-31</th>\n",
       "      <td>0</td>\n",
       "      <td>0</td>\n",
       "      <td>0</td>\n",
       "      <td>0</td>\n",
       "      <td>0</td>\n",
       "      <td>0</td>\n",
       "      <td>0</td>\n",
       "      <td>0</td>\n",
       "      <td>0</td>\n",
       "      <td>0</td>\n",
       "      <td>0</td>\n",
       "      <td>0</td>\n",
       "      <td>0</td>\n",
       "      <td>0</td>\n",
       "    </tr>\n",
       "    <tr>\n",
       "      <th>2013-04-30</th>\n",
       "      <td>64089</td>\n",
       "      <td>64089</td>\n",
       "      <td>64089</td>\n",
       "      <td>64089</td>\n",
       "      <td>64089</td>\n",
       "      <td>64089</td>\n",
       "      <td>64089</td>\n",
       "      <td>64089</td>\n",
       "      <td>64089</td>\n",
       "      <td>44826</td>\n",
       "      <td>0</td>\n",
       "      <td>44834</td>\n",
       "      <td>64089</td>\n",
       "      <td>64089</td>\n",
       "    </tr>\n",
       "    <tr>\n",
       "      <th>2013-05-31</th>\n",
       "      <td>98312</td>\n",
       "      <td>98312</td>\n",
       "      <td>98312</td>\n",
       "      <td>98312</td>\n",
       "      <td>98312</td>\n",
       "      <td>98312</td>\n",
       "      <td>98312</td>\n",
       "      <td>98312</td>\n",
       "      <td>98312</td>\n",
       "      <td>70876</td>\n",
       "      <td>0</td>\n",
       "      <td>70885</td>\n",
       "      <td>98312</td>\n",
       "      <td>98312</td>\n",
       "    </tr>\n",
       "    <tr>\n",
       "      <th>2013-06-30</th>\n",
       "      <td>109406</td>\n",
       "      <td>109406</td>\n",
       "      <td>109406</td>\n",
       "      <td>109406</td>\n",
       "      <td>109406</td>\n",
       "      <td>109406</td>\n",
       "      <td>109406</td>\n",
       "      <td>109406</td>\n",
       "      <td>109406</td>\n",
       "      <td>75377</td>\n",
       "      <td>0</td>\n",
       "      <td>75394</td>\n",
       "      <td>109406</td>\n",
       "      <td>109406</td>\n",
       "    </tr>\n",
       "    <tr>\n",
       "      <th>2013-07-31</th>\n",
       "      <td>132062</td>\n",
       "      <td>132062</td>\n",
       "      <td>132062</td>\n",
       "      <td>132062</td>\n",
       "      <td>132062</td>\n",
       "      <td>132062</td>\n",
       "      <td>132062</td>\n",
       "      <td>132062</td>\n",
       "      <td>132062</td>\n",
       "      <td>92016</td>\n",
       "      <td>0</td>\n",
       "      <td>92027</td>\n",
       "      <td>132062</td>\n",
       "      <td>132062</td>\n",
       "    </tr>\n",
       "    <tr>\n",
       "      <th>2013-08-31</th>\n",
       "      <td>148598</td>\n",
       "      <td>148598</td>\n",
       "      <td>148598</td>\n",
       "      <td>148598</td>\n",
       "      <td>148598</td>\n",
       "      <td>148598</td>\n",
       "      <td>148598</td>\n",
       "      <td>148598</td>\n",
       "      <td>148598</td>\n",
       "      <td>100656</td>\n",
       "      <td>0</td>\n",
       "      <td>100684</td>\n",
       "      <td>148598</td>\n",
       "      <td>148598</td>\n",
       "    </tr>\n",
       "    <tr>\n",
       "      <th>2013-09-30</th>\n",
       "      <td>140168</td>\n",
       "      <td>140168</td>\n",
       "      <td>140168</td>\n",
       "      <td>140168</td>\n",
       "      <td>140168</td>\n",
       "      <td>140168</td>\n",
       "      <td>140168</td>\n",
       "      <td>140168</td>\n",
       "      <td>140168</td>\n",
       "      <td>105625</td>\n",
       "      <td>0</td>\n",
       "      <td>105661</td>\n",
       "      <td>140168</td>\n",
       "      <td>140168</td>\n",
       "    </tr>\n",
       "    <tr>\n",
       "      <th>2013-10-31</th>\n",
       "      <td>139181</td>\n",
       "      <td>139181</td>\n",
       "      <td>139181</td>\n",
       "      <td>139181</td>\n",
       "      <td>139181</td>\n",
       "      <td>139181</td>\n",
       "      <td>139181</td>\n",
       "      <td>139181</td>\n",
       "      <td>139181</td>\n",
       "      <td>110013</td>\n",
       "      <td>0</td>\n",
       "      <td>110031</td>\n",
       "      <td>139181</td>\n",
       "      <td>139181</td>\n",
       "    </tr>\n",
       "    <tr>\n",
       "      <th>2013-11-30</th>\n",
       "      <td>72858</td>\n",
       "      <td>72858</td>\n",
       "      <td>72858</td>\n",
       "      <td>72858</td>\n",
       "      <td>72858</td>\n",
       "      <td>72858</td>\n",
       "      <td>72858</td>\n",
       "      <td>72858</td>\n",
       "      <td>72858</td>\n",
       "      <td>61071</td>\n",
       "      <td>0</td>\n",
       "      <td>61077</td>\n",
       "      <td>72858</td>\n",
       "      <td>72858</td>\n",
       "    </tr>\n",
       "    <tr>\n",
       "      <th>2013-12-31</th>\n",
       "      <td>1</td>\n",
       "      <td>1</td>\n",
       "      <td>1</td>\n",
       "      <td>1</td>\n",
       "      <td>1</td>\n",
       "      <td>1</td>\n",
       "      <td>1</td>\n",
       "      <td>1</td>\n",
       "      <td>1</td>\n",
       "      <td>1</td>\n",
       "      <td>0</td>\n",
       "      <td>1</td>\n",
       "      <td>1</td>\n",
       "      <td>1</td>\n",
       "    </tr>\n",
       "  </tbody>\n",
       "</table>\n",
       "</div>"
      ],
      "text/plain": [
       "            seq_id  hubway_id  status  duration  start_date  strt_statn  \\\n",
       "end_date                                                                  \n",
       "2011-07-31    2738       2738    2738      2738        2738        2738   \n",
       "2011-08-31   36614      36614   36614     36614       36614       36614   \n",
       "2011-09-30   39372      39372   39372     39372       39372       39372   \n",
       "2011-10-31   36636      36636   36636     36636       36636       36636   \n",
       "2011-11-30   25141      25141   25141     25141       25141       25141   \n",
       "2011-12-31      19         19      19        19          19          19   \n",
       "2012-01-31       0          0       0         0           0           0   \n",
       "2012-02-29       1          1       1         1           1           1   \n",
       "2012-03-31   14435      14435   14435     14435       14435       14435   \n",
       "2012-04-30   44491      44491   44491     44491       44491       44491   \n",
       "2012-05-31   53801      53801   53801     53801       53801       53801   \n",
       "2012-06-30   55982      55982   55982     55982       55982       55982   \n",
       "2012-07-31   70458      70458   70458     70458       70458       70458   \n",
       "2012-08-31   85358      85358   85358     85358       85358       85356   \n",
       "2012-09-30   84231      84231   84231     84231       84231       84219   \n",
       "2012-10-31   77363      77363   77363     77363       77363       77363   \n",
       "2012-11-30   47710      47710   47710     47710       47710       47710   \n",
       "2012-12-31       0          0       0         0           0           0   \n",
       "2013-01-31       0          0       0         0           0           0   \n",
       "2013-02-28       0          0       0         0           0           0   \n",
       "2013-03-31       0          0       0         0           0           0   \n",
       "2013-04-30   64089      64089   64089     64089       64089       64089   \n",
       "2013-05-31   98312      98312   98312     98312       98312       98312   \n",
       "2013-06-30  109406     109406  109406    109406      109406      109406   \n",
       "2013-07-31  132062     132062  132062    132062      132062      132062   \n",
       "2013-08-31  148598     148598  148598    148598      148598      148598   \n",
       "2013-09-30  140168     140168  140168    140168      140168      140168   \n",
       "2013-10-31  139181     139181  139181    139181      139181      139181   \n",
       "2013-11-30   72858      72858   72858     72858       72858       72858   \n",
       "2013-12-31       1          1       1         1           1           1   \n",
       "\n",
       "            end_statn  bike_nr  subsc_type  zip_code  birth_date  gender  \\\n",
       "end_date                                                                   \n",
       "2011-07-31       2737     2725        2738       627         627     627   \n",
       "2011-08-31      36611    36359       36614     16022       15982   16022   \n",
       "2011-09-30      39371    39238       39372     21442       21139   21442   \n",
       "2011-10-31      36636    36572       36636     23373       23081   23374   \n",
       "2011-11-30      25141    25141       25141     18114       17869   18114   \n",
       "2011-12-31          8       19          19         4           4       4   \n",
       "2012-01-31          0        0           0         0           0       0   \n",
       "2012-02-29          1        1           1         0           0       0   \n",
       "2012-03-31      14433    14435       14435     10367       10276   10367   \n",
       "2012-04-30      44487    44491       44491     31508       31252   31508   \n",
       "2012-05-31      53801    53801       53801     36415       36084   36415   \n",
       "2012-06-30      55981    55982       55982     39611       39274   39613   \n",
       "2012-07-31      70458    70458       70458     45839       45523   45839   \n",
       "2012-08-31      85354    85358       85358     54166       53822   54166   \n",
       "2012-09-30      84213    84231       84231     55862       55706   55864   \n",
       "2012-10-31      77363    77363       77363     56960           5   56970   \n",
       "2012-11-30      47710    47710       47710     35488           0   35495   \n",
       "2012-12-31          0        0           0         0           0       0   \n",
       "2013-01-31          0        0           0         0           0       0   \n",
       "2013-02-28          0        0           0         0           0       0   \n",
       "2013-03-31          0        0           0         0           0       0   \n",
       "2013-04-30      64089    64089       64089     44826           0   44834   \n",
       "2013-05-31      98312    98312       98312     70876           0   70885   \n",
       "2013-06-30     109406   109406      109406     75377           0   75394   \n",
       "2013-07-31     132062   132062      132062     92016           0   92027   \n",
       "2013-08-31     148598   148598      148598    100656           0  100684   \n",
       "2013-09-30     140168   140168      140168    105625           0  105661   \n",
       "2013-10-31     139181   139181      139181    110013           0  110031   \n",
       "2013-11-30      72858    72858       72858     61071           0   61077   \n",
       "2013-12-31          1        1           1         1           0       1   \n",
       "\n",
       "               Day  Season  \n",
       "end_date                    \n",
       "2011-07-31    2738    2738  \n",
       "2011-08-31   36614   36614  \n",
       "2011-09-30   39372   39372  \n",
       "2011-10-31   36636   36636  \n",
       "2011-11-30   25141   25141  \n",
       "2011-12-31      19      19  \n",
       "2012-01-31       0       0  \n",
       "2012-02-29       1       1  \n",
       "2012-03-31   14435   14435  \n",
       "2012-04-30   44491   44491  \n",
       "2012-05-31   53801   53801  \n",
       "2012-06-30   55982   55982  \n",
       "2012-07-31   70458   70458  \n",
       "2012-08-31   85358   85358  \n",
       "2012-09-30   84231   84231  \n",
       "2012-10-31   77363   77363  \n",
       "2012-11-30   47710   47710  \n",
       "2012-12-31       0       0  \n",
       "2013-01-31       0       0  \n",
       "2013-02-28       0       0  \n",
       "2013-03-31       0       0  \n",
       "2013-04-30   64089   64089  \n",
       "2013-05-31   98312   98312  \n",
       "2013-06-30  109406  109406  \n",
       "2013-07-31  132062  132062  \n",
       "2013-08-31  148598  148598  \n",
       "2013-09-30  140168  140168  \n",
       "2013-10-31  139181  139181  \n",
       "2013-11-30   72858   72858  \n",
       "2013-12-31       1       1  "
      ]
     },
     "execution_count": 213,
     "metadata": {},
     "output_type": "execute_result"
    }
   ],
   "source": [
    "def getSeason(x):\n",
    "    return (x%12 + 3)//3\n",
    "seasons=data.set_index(\"end_date\").resample('M').count()\n"
   ]
  },
  {
   "cell_type": "code",
   "execution_count": 214,
   "metadata": {},
   "outputs": [
    {
     "data": {
      "text/plain": [
       "end_date\n",
       "2011-07-31      2738\n",
       "2011-08-31     36614\n",
       "2011-09-30     39372\n",
       "2011-10-31     36636\n",
       "2011-11-30     25141\n",
       "2011-12-31        19\n",
       "2012-01-31         0\n",
       "2012-02-29         1\n",
       "2012-03-31     14435\n",
       "2012-04-30     44491\n",
       "2012-05-31     53801\n",
       "2012-06-30     55982\n",
       "2012-07-31     70458\n",
       "2012-08-31     85358\n",
       "2012-09-30     84231\n",
       "2012-10-31     77363\n",
       "2012-11-30     47710\n",
       "2012-12-31         0\n",
       "2013-01-31         0\n",
       "2013-02-28         0\n",
       "2013-03-31         0\n",
       "2013-04-30     64089\n",
       "2013-05-31     98312\n",
       "2013-06-30    109406\n",
       "2013-07-31    132062\n",
       "2013-08-31    148598\n",
       "2013-09-30    140168\n",
       "2013-10-31    139181\n",
       "2013-11-30     72858\n",
       "2013-12-31         1\n",
       "Freq: M, Name: duration, dtype: int64"
      ]
     },
     "execution_count": 214,
     "metadata": {},
     "output_type": "execute_result"
    }
   ],
   "source": [
    "seasons_data=seasons[\"duration\"]\n",
    "seasons_data"
   ]
  },
  {
   "cell_type": "code",
   "execution_count": 215,
   "metadata": {},
   "outputs": [],
   "source": [
    "seasons_name=[\"Winter\",\"Spring\",\"Summer\",\"Fall\"]"
   ]
  },
  {
   "cell_type": "code",
   "execution_count": 224,
   "metadata": {},
   "outputs": [
    {
     "data": {
      "text/plain": [
       "end_date\n",
       "1          0\n",
       "2          1\n",
       "3      14435\n",
       "4     108580\n",
       "5     152113\n",
       "6     165388\n",
       "7     205258\n",
       "8     270570\n",
       "9     263771\n",
       "10    253180\n",
       "11    145709\n",
       "12        20\n",
       "Name: duration, dtype: int64"
      ]
     },
     "execution_count": 224,
     "metadata": {},
     "output_type": "execute_result"
    }
   ],
   "source": [
    "trips_per_month=seasons_data.groupby(seasons_data.index.month).sum()\n",
    "trips_per_month"
   ]
  },
  {
   "cell_type": "code",
   "execution_count": 233,
   "metadata": {},
   "outputs": [
    {
     "data": {
      "text/plain": [
       "Month\n",
       "1          0\n",
       "2          1\n",
       "3      14435\n",
       "4     108580\n",
       "5     152113\n",
       "6     165388\n",
       "7     205258\n",
       "8     270570\n",
       "9     263771\n",
       "10    253180\n",
       "11    145709\n",
       "12        20\n",
       "Name: Trips, dtype: int64"
      ]
     },
     "execution_count": 233,
     "metadata": {},
     "output_type": "execute_result"
    }
   ],
   "source": [
    "trips_per_month.index.name = 'Month'\n",
    "trips_per_month= trips_per_month.rename('Trips')\n",
    "trips_per_month"
   ]
  },
  {
   "cell_type": "code",
   "execution_count": 230,
   "metadata": {},
   "outputs": [],
   "source": [
    "trips_per_season=trips_per_month.groupby(getSeason(trips_per_month.index)).sum()"
   ]
  },
  {
   "cell_type": "code",
   "execution_count": 245,
   "metadata": {},
   "outputs": [
    {
     "data": {
      "text/plain": [
       "Winter        21\n",
       "Spring    275128\n",
       "Summer    641216\n",
       "Fall      662660\n",
       "Name: Trips, dtype: int64"
      ]
     },
     "execution_count": 245,
     "metadata": {},
     "output_type": "execute_result"
    }
   ],
   "source": [
    "trips_per_season.index=season\n",
    "trips_per_season"
   ]
  },
  {
   "cell_type": "code",
   "execution_count": 265,
   "metadata": {},
   "outputs": [
    {
     "data": {
      "image/png": "[encoded data removed]",
      "text/plain": [
       "<Figure size 360x216 with 1 Axes>"
      ]
     },
     "metadata": {
      "needs_background": "light"
     },
     "output_type": "display_data"
    }
   ],
   "source": [
    "fig=plt.figure(figsize=(5, 3))\n",
    "plt.barh(trips_per_season.index.values,trips_per_season, log=True)\n",
    "plt.ylabel('Trips')\n",
    "plt.xlabel('Season')\n",
    "\n",
    "plt.grid(True)\n"
   ]
  },
  {
   "cell_type": "code",
   "execution_count": null,
   "metadata": {},
   "outputs": [],
   "source": []
  }
 ],
 "metadata": {
  "kernelspec": {
   "display_name": "Python 3",
   "language": "python",
   "name": "python3"
  },
  "language_info": {
   "codemirror_mode": {
    "name": "ipython",
    "version": 3
   },
   "file_extension": ".py",
   "mimetype": "text/x-python",
   "name": "python",
   "nbconvert_exporter": "python",
   "pygments_lexer": "ipython3",
   "version": "3.6.9"
  }
 },
 "nbformat": 4,
 "nbformat_minor": 2
}
